{
 "cells": [
  {
   "cell_type": "code",
   "execution_count": null,
   "metadata": {},
   "outputs": [],
   "source": [
    "#make all imports \n",
    "from tensorflow.keras.applications.mobilenet_v2 import preprocess_input\n",
    "from tensorflow.keras.preprocessing.image import img_to_array\n",
    "from tensorflow.keras.models import load_model\n",
    "import numpy as np\n",
    "import argparse\n",
    "import cv2\n",
    "import os"
   ]
  },
  {
   "cell_type": "code",
   "execution_count": null,
   "metadata": {},
   "outputs": [],
   "source": [
    "#parse command line arguments \n",
    "ap = argparse.ArgumentParser()\n",
    "ap.add_argument(\"-i\", \"--image\", required=True,\n",
    "    help=\"path to input image\") #path to input image containing faces \n",
    "ap.add_argument(\"-f\", \"--face\", type=str,\n",
    "    default=\"face_detector\",\n",
    "    help=\"path to face detector model directory\") #path to face detector model directory\n",
    "ap.add_argument(\"-m\", \"--model\", type=str,\n",
    "    default=\"mask_detector.model\",\n",
    "    help=\"path to trained face mask detector model\") \n",
    "ap.add_argument(\"-c\", \"--confidence\", type=float, default=0.5,\n",
    "    help=\"minimum probability to filter weak detections\") \n",
    "args = vars(ap.parse_args())"
   ]
  },
  {
   "cell_type": "code",
   "execution_count": null,
   "metadata": {},
   "outputs": [],
   "source": [
    "# load serialized face detector model from disk \n",
    "print(\"[INFO] loading face detector model...\")\n",
    "prototxtPath = os.path.sep.join([args[\"face\"], \"deploy.prototxt\"])\n",
    "weightsPath = os.path.sep.join([args[\"face\"],\n",
    "    \"res10_300x300_ssd_iter_140000.caffemodel\"])\n",
    "net = cv2.dnn.readNet(prototxtPath, weightsPath)\n",
    "\n",
    "# load the face mask detector model from disk\n",
    "print(\"[INFO] loading face mask detector model...\")\n",
    "model = load_model(args[\"model\"])"
   ]
  },
  {
   "cell_type": "code",
   "execution_count": null,
   "metadata": {},
   "outputs": [],
   "source": [
    "#load and preprocess an input image \n",
    "\n",
    "# load the input image from disk, clone it, and grab the image spatial dimensions\n",
    "image = cv2.imread(args[\"image\"])\n",
    "orig = image.copy()\n",
    "(h, w) = image.shape[:2]\n",
    "\n",
    "#pass image through the network and obtain face detections\n",
    "blurb = cv2.dnn.blobFromImage(image, 1.0, (300, 300),(104.0, 177.0, 123.0)) #pre-processing done by OpenCV function\n",
    "print(\"[INFO] computing face detections...\") #finds where the face is located in the image \n",
    "net.setInput(blurb)\n",
    "detections = net.forward()\n",
    "\n",
    "#Once we know where the face is located in each image, ensure they meet the --confidence threshold before extracting the faceROI's \n",
    "for i in range(0, detections.shape[2]):\n",
    "    confidence = detections[0, 0, i, 2]\n",
    "    \n",
    "    if confidence > args[\"confidence\"]:\n",
    "        box = detections[0, 0, i, 3:7] * np.array([w, h, w, h]) #commpute coordinated of the objec's bounding box \n",
    "        (startX, startY, endX, endY) = box.astype(\"int\")\n",
    "        \n",
    "        (startX, startY) = (max(0, startX), max(0, startY)) #ensure bounding box is within the frame dimensions\n",
    "        (endX, endY) = (min(w - 1, endX), min(h - 1, endY))\n",
    "    "
   ]
  },
  {
   "cell_type": "code",
   "execution_count": null,
   "metadata": {},
   "outputs": [],
   "source": [
    "#Extract the face ROI and pre-process it\n",
    "face = image[startY:endY, startX:endX] #extracted using NumPy slicing\n",
    "face = cv2.cvtColor(face, cv2.COLOR_BGR2RGB)\n",
    "face = cv2.resize(face, (224, 224))\n",
    "face = img_to_array(face)\n",
    "face = preprocess_input(face)\n",
    "face = np.expand_dims(face, axis=0)\n",
    "\n",
    "#pass face through model to detect whether it's wearing a mask or not\n",
    "(mask, withoutMask) = model.predict(face)[0]"
   ]
  },
  {
   "cell_type": "code",
   "execution_count": null,
   "metadata": {},
   "outputs": [],
   "source": [
    "#Display the result \n",
    "\n",
    "label = \"Mask\" if mask > withoutMask else \"No Mask\"\n",
    "color = (0, 255, 0) if label == \"Mask\" else (0, 0, 255) #either green or red\n",
    "label = \"{}: {:.2f}%\".format(label, max(mask, withoutMask) * 100)\n",
    "cv2.putText(image, label, (startX, startY - 10), #OpenCV drawing functions\n",
    "    cv2.FONT_HERSHEY_SIMPLEX, 0.45, color, 2)\n",
    "cv2.rectangle(image, (startX, startY), (endX, endY), color, 2)\n",
    "cv2.imshow(\"Output\", image)\n",
    "cv2.waitKey(0)"
   ]
  }
 ],
 "metadata": {
  "kernelspec": {
   "display_name": "Python 3",
   "language": "python",
   "name": "python3"
  },
  "language_info": {
   "codemirror_mode": {
    "name": "ipython",
    "version": 3
   },
   "file_extension": ".py",
   "mimetype": "text/x-python",
   "name": "python",
   "nbconvert_exporter": "python",
   "pygments_lexer": "ipython3",
   "version": "3.7.3"
  }
 },
 "nbformat": 4,
 "nbformat_minor": 2
}
